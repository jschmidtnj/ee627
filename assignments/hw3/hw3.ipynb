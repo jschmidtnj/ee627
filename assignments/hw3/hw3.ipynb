{
 "cells": [
  {
   "cell_type": "markdown",
   "metadata": {},
   "source": [
    "# data acquisition / processing homework 3\n",
    "\n",
    "> I pledge my Honor that I have abided by the Stevens Honor System. - Joshua Schmidt 3/6/21\n"
   ]
  },
  {
   "cell_type": "markdown",
   "metadata": {},
   "source": [
    "## Part 1:  Understanding the ROC curve. \n",
    " \n",
    "Given below logistic regression probabilities and the ground-truth classifications. Plot the ROC curve via calculating the TruePositive rate vs. FalsePositive rate.\n"
   ]
  },
  {
   "cell_type": "code",
   "execution_count": 11,
   "metadata": {},
   "outputs": [],
   "source": [
    "# imports\n",
    "import numpy as np\n",
    "import pandas as pd\n",
    "import seaborn as sns\n",
    "import matplotlib.pyplot as plt"
   ]
  },
  {
   "cell_type": "code",
   "execution_count": 28,
   "metadata": {},
   "outputs": [
    {
     "name": "stdout",
     "output_type": "stream",
     "text": [
      "   true positive rate  false positive rate\n",
      "0                 1.0                  0.0\n",
      "1                 1.0                  0.0\n",
      "2                 1.0                  0.2\n",
      "3                 1.0                  0.2\n",
      "4                 1.0                  0.2\n"
     ]
    },
    {
     "data": {
      "image/png": "[encoded data removed]",
      "text/plain": [
       "<Figure size 432x288 with 1 Axes>"
      ]
     },
     "metadata": {
      "needs_background": "light"
     },
     "output_type": "display_data"
    }
   ],
   "source": [
    "probabilities = np.array([0.967, 0.448, 0.568, 0.879, 0.015, 0.780, 0.978, 0.004], dtype=np.float32)\n",
    "classifications = np.array([1, 0, 1,  0, 1, 0, 1, 0], dtype=np.int)\n",
    "\n",
    "data = []\n",
    "\n",
    "for threshold in np.linspace(0.0, 1.0, num=100):\n",
    "    true_pos, false_pos = 0, 0\n",
    "    true_neg, false_neg = 0, 0\n",
    "    for i, _ in enumerate(probabilities):\n",
    "        if classifications[i] == 1:\n",
    "            if probabilities[i] >= threshold:\n",
    "                true_pos += 1\n",
    "            else:\n",
    "                false_pos += 1\n",
    "        else:\n",
    "            if probabilities[i] <= 1 - threshold:\n",
    "                true_neg += 1\n",
    "            else:\n",
    "                false_neg += 1\n",
    "    false_pos_rate = false_pos / (false_pos + true_neg)\n",
    "    true_pos_rate = true_pos / (true_pos + false_neg)\n",
    "    data.append((true_pos_rate, false_pos_rate))\n",
    "\n",
    "df = pd.DataFrame(data=data, columns=['true positive rate', 'false positive rate'])\n",
    "print(df.head())\n",
    "roc_curve = sns.lineplot(data=df, x='false positive rate', y='true positive rate')\n",
    "roc_curve.set_title('roc curve')\n",
    "roc_curve.set(xlabel='false positive rate', ylabel='true positive rate')\n",
    "plt.show()\n"
   ]
  },
  {
   "cell_type": "code",
   "execution_count": null,
   "metadata": {},
   "outputs": [],
   "source": []
  }
 ],
 "metadata": {
  "kernelspec": {
   "display_name": "ee627",
   "language": "python",
   "name": "ee627"
  },
  "language_info": {
   "codemirror_mode": {
    "name": "ipython",
    "version": 3
   },
   "file_extension": ".py",
   "mimetype": "text/x-python",
   "name": "python",
   "nbconvert_exporter": "python",
   "pygments_lexer": "ipython3",
   "version": "3.7.9"
  }
 },
 "nbformat": 4,
 "nbformat_minor": 4
}
