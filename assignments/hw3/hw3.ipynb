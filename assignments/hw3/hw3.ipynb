{
 "cells": [
  {
   "cell_type": "markdown",
   "metadata": {},
   "source": [
    "# data acquisition / processing homework 3\n",
    "\n",
    "> I pledge my Honor that I have abided by the Stevens Honor System. - Joshua Schmidt 3/6/21\n"
   ]
  },
  {
   "cell_type": "markdown",
   "metadata": {},
   "source": [
    "## Part 1:  Understanding the ROC curve. \n",
    " \n",
    "Given below logistic regression probabilities and the ground-truth classifications. Plot the ROC curve via calculating the TruePositive rate vs. FalsePositive rate.\n"
   ]
  },
  {
   "cell_type": "code",
   "execution_count": 3,
   "metadata": {},
   "outputs": [],
   "source": [
    "# imports\n",
    "import numpy as np"
   ]
  },
  {
   "cell_type": "code",
   "execution_count": 11,
   "metadata": {},
   "outputs": [
    {
     "name": "stdout",
     "output_type": "stream",
     "text": [
      "true 1.0 false 0.0\n",
      "true 1.0 false 0.0\n",
      "true 1.0 false 0.0\n",
      "true 1.0 false 0.5\n",
      "true 0.6666666666666666 false 0.5\n",
      "true 0.6666666666666666 false 0.6666666666666666\n",
      "true 0.75 false 0.6666666666666666\n",
      "true 0.75 false 0.5\n"
     ]
    }
   ],
   "source": [
    "probabilities = np.array([0.967, 0.448, 0.568, 0.879, 0.015, 0.780, 0.978, 0.004], dtype=np.float32)\n",
    "classifications = np.array([1, 0, 1,  0, 1, 0, 1, 0], dtype=np.int)\n",
    "true_pos, false_pos = 0, 0\n",
    "true_neg, false_neg = 0, 0\n",
    "\n",
    "for i, _ in enumerate(probabilities):\n",
    "    if probabilities[i] > 0.5:\n",
    "        if classifications[i] == 1:\n",
    "            true_pos += 1\n",
    "        else:\n",
    "            false_pos += 1\n",
    "    else:\n",
    "        if classifications[i] == 0:\n",
    "            true_neg += 1\n",
    "        else:\n",
    "            false_neg += 1\n",
    "    if false_pos + true_neg > 0:\n",
    "        false_pos_rate = false_pos / (false_pos + true_neg)\n",
    "    else:\n",
    "        false_pos_rate = 0.\n",
    "    if true_pos + false_neg > 0:\n",
    "        true_pos_rate = true_pos / (true_pos + false_neg)\n",
    "    else:\n",
    "        true_pos_rate = 0.\n",
    "    print('true', true_pos_rate, 'false', false_pos_rate)\n"
   ]
  },
  {
   "cell_type": "code",
   "execution_count": null,
   "metadata": {},
   "outputs": [],
   "source": []
  }
 ],
 "metadata": {
  "kernelspec": {
   "display_name": "ee627",
   "language": "python",
   "name": "ee627"
  },
  "language_info": {
   "codemirror_mode": {
    "name": "ipython",
    "version": 3
   },
   "file_extension": ".py",
   "mimetype": "text/x-python",
   "name": "python",
   "nbconvert_exporter": "python",
   "pygments_lexer": "ipython3",
   "version": "3.7.9"
  }
 },
 "nbformat": 4,
 "nbformat_minor": 4
}
