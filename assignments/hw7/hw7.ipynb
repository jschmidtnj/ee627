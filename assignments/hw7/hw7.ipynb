{
 "cells": [
  {
   "cell_type": "markdown",
   "metadata": {},
   "source": [
    "# hw7\n",
    "\n",
    "> I pledge my Honor that I have abided by the Stevens Honor System. - Joshua Schmidt 4/10/21"
   ]
  },
  {
   "cell_type": "markdown",
   "metadata": {},
   "source": [
    "imports"
   ]
  },
  {
   "cell_type": "code",
   "execution_count": 41,
   "metadata": {},
   "outputs": [],
   "source": [
    "import pandas as pd\n",
    "import matplotlib.pyplot as plt\n",
    "import seaborn as sns\n",
    "sns.set()\n",
    "from sklearn.decomposition import PCA\n",
    "from typing import Tuple"
   ]
  },
  {
   "cell_type": "code",
   "execution_count": 4,
   "metadata": {},
   "outputs": [
    {
     "name": "stdout",
     "output_type": "stream",
     "text": [
      "Index(['Date', 'Mkt-RF', 'SMB', 'HML', 'RF', 'Mom', 'Food', 'Beer', 'Smoke',\n",
      "       'Games', 'Books', 'Hshld', 'Clths', 'Hlth', 'Chems', 'Txtls', 'Cnstr',\n",
      "       'Steel', 'FabPr', 'ElcEq', 'Autos', 'Carry', 'Mines', 'Coal', 'Oil',\n",
      "       'Util', 'Telcm', 'Servs', 'BusEq', 'Paper', 'Trans', 'Whlsl', 'Rtail',\n",
      "       'Meals', 'Fin', 'Other'],\n",
      "      dtype='object')\n"
     ]
    }
   ],
   "source": [
    "df = pd.read_csv('./data.csv')\n",
    "print(df.columns)"
   ]
  },
  {
   "cell_type": "code",
   "execution_count": 7,
   "metadata": {},
   "outputs": [
    {
     "name": "stdout",
     "output_type": "stream",
     "text": [
      "(948, 4)\n"
     ]
    },
    {
     "data": {
      "text/html": [
       "<div>\n",
       "<style scoped>\n",
       "    .dataframe tbody tr th:only-of-type {\n",
       "        vertical-align: middle;\n",
       "    }\n",
       "\n",
       "    .dataframe tbody tr th {\n",
       "        vertical-align: top;\n",
       "    }\n",
       "\n",
       "    .dataframe thead th {\n",
       "        text-align: right;\n",
       "    }\n",
       "</style>\n",
       "<table border=\"1\" class=\"dataframe\">\n",
       "  <thead>\n",
       "    <tr style=\"text-align: right;\">\n",
       "      <th></th>\n",
       "      <th>Mkt-RF</th>\n",
       "      <th>SMB</th>\n",
       "      <th>HML</th>\n",
       "      <th>Mom</th>\n",
       "    </tr>\n",
       "  </thead>\n",
       "  <tbody>\n",
       "    <tr>\n",
       "      <th>0</th>\n",
       "      <td>-0.10</td>\n",
       "      <td>-0.09</td>\n",
       "      <td>4.72</td>\n",
       "      <td>0.36</td>\n",
       "    </tr>\n",
       "    <tr>\n",
       "      <th>1</th>\n",
       "      <td>4.32</td>\n",
       "      <td>0.31</td>\n",
       "      <td>3.40</td>\n",
       "      <td>-1.67</td>\n",
       "    </tr>\n",
       "    <tr>\n",
       "      <th>2</th>\n",
       "      <td>0.33</td>\n",
       "      <td>-1.77</td>\n",
       "      <td>-2.42</td>\n",
       "      <td>2.97</td>\n",
       "    </tr>\n",
       "    <tr>\n",
       "      <th>3</th>\n",
       "      <td>0.42</td>\n",
       "      <td>0.30</td>\n",
       "      <td>1.03</td>\n",
       "      <td>4.53</td>\n",
       "    </tr>\n",
       "    <tr>\n",
       "      <th>4</th>\n",
       "      <td>5.36</td>\n",
       "      <td>0.67</td>\n",
       "      <td>3.41</td>\n",
       "      <td>3.41</td>\n",
       "    </tr>\n",
       "  </tbody>\n",
       "</table>\n",
       "</div>"
      ],
      "text/plain": [
       "   Mkt-RF   SMB   HML   Mom\n",
       "0   -0.10 -0.09  4.72  0.36\n",
       "1    4.32  0.31  3.40 -1.67\n",
       "2    0.33 -1.77 -2.42  2.97\n",
       "3    0.42  0.30  1.03  4.53\n",
       "4    5.36  0.67  3.41  3.41"
      ]
     },
     "execution_count": 7,
     "metadata": {},
     "output_type": "execute_result"
    }
   ],
   "source": [
    "used_data = df[['Mkt-RF', 'SMB', 'HML', 'Mom']]\n",
    "print(used_data.shape)\n",
    "used_data.head()"
   ]
  },
  {
   "cell_type": "code",
   "execution_count": 129,
   "metadata": {},
   "outputs": [],
   "source": [
    "def pca(data: pd.DataFrame) -> None:\n",
    "    \"\"\"\n",
    "    compute pca of given dataframe\n",
    "    \"\"\"\n",
    "    pca = PCA(n_components = 2)\n",
    "    pca.fit(data)\n",
    "    print(f'explained variance: {pca.explained_variance_ratio_}')\n",
    "    covariance = pca.get_covariance()\n",
    "    num_components = 4\n",
    "    sum_components = sum(sorted(np.diag(covariance), reverse=True)[:num_components])\n",
    "    print(f'sum of {num_components} principle components in covariance matrix: {sum_components:.2f}%')\n",
    "\n",
    "    print(f'components:\\n{pca.components_}')\n",
    "\n",
    "    def draw_vector(v0, v1, ax=None):\n",
    "        ax = ax or plt.gca()\n",
    "        arrowprops=dict(arrowstyle='->',\n",
    "                        linewidth=2,\n",
    "                        color='black',\n",
    "                        shrinkA=0, shrinkB=0)\n",
    "        ax.annotate('', v1, v0, arrowprops=arrowprops)\n",
    "\n",
    "    # plot data\n",
    "    sns.scatterplot(data=data, x='Mkt-RF', y='SMB')\n",
    "    num_pca = 2\n",
    "    for length, vector in zip(pca.explained_variance_, [pca.components_[0, :2], pca.components_[1, 2:]]):\n",
    "        v = vector * 3 * np.sqrt(length)\n",
    "        means = [pca.mean_[0], pca.mean_[1]]\n",
    "        draw_vector(means, means + v)\n",
    "    plt.axis('equal')\n",
    "    plt.show()"
   ]
  },
  {
   "cell_type": "code",
   "execution_count": 130,
   "metadata": {},
   "outputs": [
    {
     "name": "stdout",
     "output_type": "stream",
     "text": [
      "explained variance: [0.514017   0.23808719]\n",
      "sum of 4 principle components in covariance matrix: 76.51%\n",
      "components:\n",
      "[[ 0.77050128  0.22686753  0.2721436  -0.52990259]\n",
      " [-0.56991811 -0.17166117  0.40301164 -0.69520314]]\n"
     ]
    },
    {
     "data": {
      "image/png": "[encoded data removed]",
      "text/plain": [
       "<Figure size 432x288 with 1 Axes>"
      ]
     },
     "metadata": {},
     "output_type": "display_data"
    }
   ],
   "source": [
    "pca(used_data)"
   ]
  },
  {
   "cell_type": "markdown",
   "metadata": {},
   "source": [
    "4 principle components account for 75% of the covariance matrix (it's actually 76.51%)."
   ]
  }
 ],
 "metadata": {
  "kernelspec": {
   "display_name": "ee627",
   "language": "python",
   "name": "ee627"
  },
  "language_info": {
   "codemirror_mode": {
    "name": "ipython",
    "version": 3
   },
   "file_extension": ".py",
   "mimetype": "text/x-python",
   "name": "python",
   "nbconvert_exporter": "python",
   "pygments_lexer": "ipython3",
   "version": "3.7.9"
  }
 },
 "nbformat": 4,
 "nbformat_minor": 4
}
